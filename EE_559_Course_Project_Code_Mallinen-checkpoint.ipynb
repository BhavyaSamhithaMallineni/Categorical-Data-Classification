{
 "cells": [
  {
   "cell_type": "markdown",
   "id": "0e8d3523",
   "metadata": {},
   "source": [
    "# EE 559 Course Project\n",
    "#### Name: Bhavya Samhitha Mallineni\n",
    "#### mail id: mallinen@usc.edu\n",
    "#### USCid: 6580252371"
   ]
  },
  {
   "cell_type": "markdown",
   "id": "e43b1e23",
   "metadata": {},
   "source": [
    "## Laptop Prediction "
   ]
  },
  {
   "cell_type": "markdown",
   "id": "400bdd17",
   "metadata": {},
   "source": [
    "#### Load all Libraries "
   ]
  },
  {
   "cell_type": "code",
   "execution_count": 1,
   "id": "fb35d542",
   "metadata": {},
   "outputs": [],
   "source": [
    "import pandas as pd\n",
    "import numpy as np\n",
    "import matplotlib.pyplot as plt\n",
    "import seaborn as sns\n",
    "from sklearn.preprocessing import LabelEncoder, MinMaxScaler\n",
    "from sklearn.decomposition import PCA\n",
    "from sklearn.svm import SVR\n",
    "from sklearn.linear_model import LinearRegression\n",
    "from sklearn.neural_network import MLPRegressor\n",
    "from sklearn.model_selection import GridSearchCV, KFold, cross_val_score\n",
    "from sklearn.metrics import mean_squared_error, mean_absolute_error, r2_score, make_scorer"
   ]
  },
  {
   "cell_type": "markdown",
   "id": "dfde83e2",
   "metadata": {},
   "source": [
    "#### Load all the data "
   ]
  },
  {
   "cell_type": "code",
   "execution_count": 2,
   "id": "1a663284",
   "metadata": {},
   "outputs": [],
   "source": [
    "# Load the data into train and test sets and also separate the features from the target\n",
    "train_df = pd.read_csv('laptop_data_train.csv')\n",
    "test_df = pd.read_csv('laptop_data_test.csv')\n",
    "\n",
    "X_train = train_df.drop(columns=['Number','Price'])\n",
    "y_train =np.log(train_df['Price']) \n",
    "#y_train=train_df['Price']\n",
    "\n",
    "X_test = test_df.drop(columns=['Number','Price'])\n",
    "y_test = np.log(test_df['Price'])\n",
    "#y_test = test_df['Price']"
   ]
  },
  {
   "cell_type": "code",
   "execution_count": 3,
   "id": "947af3d0",
   "metadata": {},
   "outputs": [
    {
     "data": {
      "text/html": [
       "<div>\n",
       "<style scoped>\n",
       "    .dataframe tbody tr th:only-of-type {\n",
       "        vertical-align: middle;\n",
       "    }\n",
       "\n",
       "    .dataframe tbody tr th {\n",
       "        vertical-align: top;\n",
       "    }\n",
       "\n",
       "    .dataframe thead th {\n",
       "        text-align: right;\n",
       "    }\n",
       "</style>\n",
       "<table border=\"1\" class=\"dataframe\">\n",
       "  <thead>\n",
       "    <tr style=\"text-align: right;\">\n",
       "      <th></th>\n",
       "      <th>Company</th>\n",
       "      <th>TypeName</th>\n",
       "      <th>Inches</th>\n",
       "      <th>ScreenResolution</th>\n",
       "      <th>Cpu</th>\n",
       "      <th>Ram</th>\n",
       "      <th>Memory</th>\n",
       "      <th>Gpu</th>\n",
       "      <th>OpSys</th>\n",
       "      <th>Weight</th>\n",
       "    </tr>\n",
       "  </thead>\n",
       "  <tbody>\n",
       "    <tr>\n",
       "      <th>0</th>\n",
       "      <td>Apple</td>\n",
       "      <td>Ultrabook</td>\n",
       "      <td>13.3</td>\n",
       "      <td>IPS Panel Retina Display 2560x1600</td>\n",
       "      <td>Intel Core i5 2.3GHz</td>\n",
       "      <td>8GB</td>\n",
       "      <td>128GB SSD</td>\n",
       "      <td>Intel Iris Plus Graphics 640</td>\n",
       "      <td>macOS</td>\n",
       "      <td>1.37kg</td>\n",
       "    </tr>\n",
       "    <tr>\n",
       "      <th>1</th>\n",
       "      <td>Apple</td>\n",
       "      <td>Ultrabook</td>\n",
       "      <td>13.3</td>\n",
       "      <td>1440x900</td>\n",
       "      <td>Intel Core i5 1.8GHz</td>\n",
       "      <td>8GB</td>\n",
       "      <td>128GB Flash Storage</td>\n",
       "      <td>Intel HD Graphics 6000</td>\n",
       "      <td>macOS</td>\n",
       "      <td>1.34kg</td>\n",
       "    </tr>\n",
       "    <tr>\n",
       "      <th>2</th>\n",
       "      <td>HP</td>\n",
       "      <td>Notebook</td>\n",
       "      <td>15.6</td>\n",
       "      <td>Full HD 1920x1080</td>\n",
       "      <td>Intel Core i5 7200U 2.5GHz</td>\n",
       "      <td>8GB</td>\n",
       "      <td>256GB SSD</td>\n",
       "      <td>Intel HD Graphics 620</td>\n",
       "      <td>No OS</td>\n",
       "      <td>1.86kg</td>\n",
       "    </tr>\n",
       "    <tr>\n",
       "      <th>3</th>\n",
       "      <td>Apple</td>\n",
       "      <td>Ultrabook</td>\n",
       "      <td>15.4</td>\n",
       "      <td>IPS Panel Retina Display 2880x1800</td>\n",
       "      <td>Intel Core i7 2.7GHz</td>\n",
       "      <td>16GB</td>\n",
       "      <td>512GB SSD</td>\n",
       "      <td>AMD Radeon Pro 455</td>\n",
       "      <td>macOS</td>\n",
       "      <td>1.83kg</td>\n",
       "    </tr>\n",
       "    <tr>\n",
       "      <th>4</th>\n",
       "      <td>Apple</td>\n",
       "      <td>Ultrabook</td>\n",
       "      <td>13.3</td>\n",
       "      <td>IPS Panel Retina Display 2560x1600</td>\n",
       "      <td>Intel Core i5 3.1GHz</td>\n",
       "      <td>8GB</td>\n",
       "      <td>256GB SSD</td>\n",
       "      <td>Intel Iris Plus Graphics 650</td>\n",
       "      <td>macOS</td>\n",
       "      <td>1.37kg</td>\n",
       "    </tr>\n",
       "  </tbody>\n",
       "</table>\n",
       "</div>"
      ],
      "text/plain": [
       "  Company   TypeName  Inches                    ScreenResolution  \\\n",
       "0   Apple  Ultrabook    13.3  IPS Panel Retina Display 2560x1600   \n",
       "1   Apple  Ultrabook    13.3                            1440x900   \n",
       "2      HP   Notebook    15.6                   Full HD 1920x1080   \n",
       "3   Apple  Ultrabook    15.4  IPS Panel Retina Display 2880x1800   \n",
       "4   Apple  Ultrabook    13.3  IPS Panel Retina Display 2560x1600   \n",
       "\n",
       "                          Cpu   Ram               Memory  \\\n",
       "0        Intel Core i5 2.3GHz   8GB            128GB SSD   \n",
       "1        Intel Core i5 1.8GHz   8GB  128GB Flash Storage   \n",
       "2  Intel Core i5 7200U 2.5GHz   8GB            256GB SSD   \n",
       "3        Intel Core i7 2.7GHz  16GB            512GB SSD   \n",
       "4        Intel Core i5 3.1GHz   8GB            256GB SSD   \n",
       "\n",
       "                            Gpu  OpSys  Weight  \n",
       "0  Intel Iris Plus Graphics 640  macOS  1.37kg  \n",
       "1        Intel HD Graphics 6000  macOS  1.34kg  \n",
       "2         Intel HD Graphics 620  No OS  1.86kg  \n",
       "3            AMD Radeon Pro 455  macOS  1.83kg  \n",
       "4  Intel Iris Plus Graphics 650  macOS  1.37kg  "
      ]
     },
     "execution_count": 3,
     "metadata": {},
     "output_type": "execute_result"
    }
   ],
   "source": [
    "# display the feature space\n",
    "X_train.head()"
   ]
  },
  {
   "cell_type": "code",
   "execution_count": 4,
   "id": "d3703c80",
   "metadata": {},
   "outputs": [
    {
     "name": "stdout",
     "output_type": "stream",
     "text": [
      "<class 'pandas.core.frame.DataFrame'>\n",
      "RangeIndex: 901 entries, 0 to 900\n",
      "Data columns (total 10 columns):\n",
      " #   Column            Non-Null Count  Dtype  \n",
      "---  ------            --------------  -----  \n",
      " 0   Company           901 non-null    object \n",
      " 1   TypeName          901 non-null    object \n",
      " 2   Inches            901 non-null    float64\n",
      " 3   ScreenResolution  901 non-null    object \n",
      " 4   Cpu               901 non-null    object \n",
      " 5   Ram               901 non-null    object \n",
      " 6   Memory            901 non-null    object \n",
      " 7   Gpu               901 non-null    object \n",
      " 8   OpSys             901 non-null    object \n",
      " 9   Weight            901 non-null    object \n",
      "dtypes: float64(1), object(9)\n",
      "memory usage: 70.5+ KB\n",
      "None\n"
     ]
    }
   ],
   "source": [
    "print(X_train.info())"
   ]
  },
  {
   "cell_type": "code",
   "execution_count": 5,
   "id": "95b94c01",
   "metadata": {},
   "outputs": [
    {
     "name": "stdout",
     "output_type": "stream",
     "text": [
      "\n",
      " No. of Catergories in each feature:\n",
      " Company              19\n",
      "TypeName              6\n",
      "Inches               17\n",
      "ScreenResolution     37\n",
      "Cpu                 100\n",
      "Ram                   8\n",
      "Memory               33\n",
      "Gpu                  96\n",
      "OpSys                 9\n",
      "Weight              161\n",
      "dtype: int64\n"
     ]
    }
   ],
   "source": [
    "print(\"\\n No. of Catergories in each feature:\\n\", X_train.nunique())"
   ]
  },
  {
   "cell_type": "markdown",
   "id": "69b822f1",
   "metadata": {},
   "source": [
    "#### PreProcessing  "
   ]
  },
  {
   "cell_type": "markdown",
   "id": "e20ebf5d",
   "metadata": {},
   "source": [
    "Company "
   ]
  },
  {
   "cell_type": "code",
   "execution_count": 6,
   "id": "00ad750f",
   "metadata": {},
   "outputs": [
    {
     "data": {
      "image/png": "[encoded data removed]",
      "text/plain": [
       "<Figure size 1400x600 with 1 Axes>"
      ]
     },
     "metadata": {},
     "output_type": "display_data"
    }
   ],
   "source": [
    "# Analysing Company Feature\n",
    "company_counts = X_train['Company'].value_counts().reset_index()\n",
    "company_counts.columns = ['Company', 'Count']\n",
    "plt.figure(figsize=(14, 6))\n",
    "sns.barplot(x='Company', y='Count', data=company_counts)\n",
    "plt.title('Company Counts')\n",
    "plt.xlabel('Company')\n",
    "plt.ylabel('Counts')\n",
    "plt.show()\n"
   ]
  },
  {
   "cell_type": "code",
   "execution_count": 7,
   "id": "195dd624",
   "metadata": {},
   "outputs": [],
   "source": [
    "# Company has 19 Unique categories inside.\n",
    "# we are one hot encoding all of the categories\n",
    "comp_ohencoded= pd.get_dummies(X_train['Company'])\n",
    "X_train = pd.concat([X_train, comp_ohencoded], axis=1)\n",
    "X_train.drop('Company', axis=1, inplace=True)\n",
    "comp_ohencoded_test = pd.get_dummies(X_test['Company'])\n",
    "X_test = pd.concat([X_test, comp_ohencoded_test], axis=1)\n",
    "X_test.drop('Company', axis=1, inplace=True)"
   ]
  },
  {
   "cell_type": "markdown",
   "id": "5526cc44",
   "metadata": {},
   "source": [
    "TypeName "
   ]
  },
  {
   "cell_type": "code",
   "execution_count": 8,
   "id": "b522519a",
   "metadata": {},
   "outputs": [
    {
     "data": {
      "image/png": "[encoded data removed]",
      "text/plain": [
       "<Figure size 800x600 with 1 Axes>"
      ]
     },
     "metadata": {},
     "output_type": "display_data"
    }
   ],
   "source": [
    "#Analysing the TypeName feature\n",
    "type_counts = X_train['TypeName'].value_counts().reset_index()\n",
    "type_counts.columns = ['TypeName', 'Count']\n",
    "plt.figure(figsize=(8, 6))\n",
    "sns.barplot(x='TypeName', y='Count', data=type_counts)\n",
    "plt.title('Type Counts')\n",
    "plt.xlabel('TypeName')\n",
    "plt.ylabel('Counts')\n",
    "plt.show()"
   ]
  },
  {
   "cell_type": "code",
   "execution_count": 9,
   "id": "d42ae18c",
   "metadata": {},
   "outputs": [],
   "source": [
    "type_ohencoded_train = pd.get_dummies(X_train['TypeName'])\n",
    "X_train = pd.concat([X_train, type_ohencoded_train], axis=1)\n",
    "X_train.drop('TypeName', axis=1, inplace=True)\n",
    "type_ohencoded_test = pd.get_dummies(X_test['TypeName'])\n",
    "X_test = pd.concat([X_test, type_ohencoded_test], axis=1)\n",
    "X_test.drop('TypeName', axis=1, inplace=True)"
   ]
  },
  {
   "cell_type": "markdown",
   "id": "14d6a9ef",
   "metadata": {},
   "source": [
    "Inches"
   ]
  },
  {
   "cell_type": "code",
   "execution_count": 10,
   "id": "12e09dc9",
   "metadata": {},
   "outputs": [],
   "source": [
    "# inches is float variable, so no transformation required but lets get this value range from 0 to 1\n",
    "scaler = MinMaxScaler()\n",
    "X_train['Inches'] = scaler.fit_transform(X_train[['Inches']])\n",
    "X_test['Inches'] = scaler.transform(X_test[['Inches']])"
   ]
  },
  {
   "cell_type": "markdown",
   "id": "74316ad6",
   "metadata": {},
   "source": [
    "Screen Resolution "
   ]
  },
  {
   "cell_type": "code",
   "execution_count": 11,
   "id": "59575121",
   "metadata": {},
   "outputs": [],
   "source": [
    "# There are 37 categories within Screen Resolution but all of them are long, so we can segregate the names and the encode them.\n",
    "def break_ScreenResolution(df):\n",
    "    df['ResolutionFullHD'] = df['ScreenResolution'].str.contains('Full HD').astype(int)\n",
    "    df['ResolutionIPS'] = df['ScreenResolution'].str.contains('IPS').astype(int)\n",
    "    df['ResolutionTouchscreen'] = df['ScreenResolution'].str.contains('Touchscreen').astype(int)\n",
    "    df['ResolutionRetina'] = df['ScreenResolution'].str.contains('Retina').astype(int)\n",
    "    resolution = df['ScreenResolution'].str.extract(r'(\\d+)x(\\d+)')\n",
    "    df['ScreenWidth'] = resolution[0].astype(int)\n",
    "    df['ScreenHeight'] = resolution[1].astype(int)\n",
    "    df.drop(columns=['ScreenResolution'], inplace=True)\n",
    "    return df\n",
    "X_train = break_ScreenResolution(X_train.copy())\n",
    "X_test = break_ScreenResolution(X_test.copy())"
   ]
  },
  {
   "cell_type": "code",
   "execution_count": 12,
   "id": "79180694",
   "metadata": {},
   "outputs": [],
   "source": [
    "# we can normalise screen width and height columns\n",
    "X_train['ScreenWidth'] = scaler.fit_transform(X_train[['ScreenWidth']])\n",
    "X_test['ScreenWidth'] = scaler.transform(X_test[['ScreenWidth']])\n",
    "X_train['ScreenHeight'] = scaler.fit_transform(X_train[['ScreenHeight']])\n",
    "X_test['ScreenHeight'] = scaler.transform(X_test[['ScreenHeight']])"
   ]
  },
  {
   "cell_type": "markdown",
   "id": "6a4a085e",
   "metadata": {},
   "source": [
    "CPU "
   ]
  },
  {
   "cell_type": "code",
   "execution_count": 13,
   "id": "c23243d3",
   "metadata": {},
   "outputs": [],
   "source": [
    "# CPU had about 100 categories so we can segregate it into Cpu_speed, and Cpu company\n",
    "def break_CPU(df):\n",
    "    cpu_speed = df['Cpu'].str.extract(r'(\\d+\\.\\d+)GHz')\n",
    "    cpu_speed = cpu_speed.fillna(df['Cpu'].str.extract(r'(\\d+)GHz'))\n",
    "    df['CpuSpeed'] = cpu_speed[0].astype(float)\n",
    "    df['CpuCompany'] = df['Cpu'].str.extract(r'([A-Za-z]+)')\n",
    "    return df.drop(columns=['Cpu'])\n",
    "X_train = break_CPU(X_train)\n",
    "X_test = break_CPU(X_test)"
   ]
  },
  {
   "cell_type": "code",
   "execution_count": 14,
   "id": "8805d99a",
   "metadata": {},
   "outputs": [
    {
     "data": {
      "image/png": "[encoded data removed]",
      "text/plain": [
       "<Figure size 600x400 with 1 Axes>"
      ]
     },
     "metadata": {},
     "output_type": "display_data"
    }
   ],
   "source": [
    "# after segregating the cpu analyse the company categorical column\n",
    "cpu_company_counts = X_train['CpuCompany'].value_counts().reset_index()\n",
    "cpu_company_counts.columns = ['CpuCompany', 'Count']\n",
    "plt.figure(figsize=(6, 4))\n",
    "sns.barplot(x='CpuCompany', y='Count', data=cpu_company_counts)\n",
    "plt.title('Cpu Company Counts')\n",
    "plt.xlabel('CpuCompany')\n",
    "plt.ylabel('Counts')\n",
    "plt.show()"
   ]
  },
  {
   "cell_type": "code",
   "execution_count": 15,
   "id": "6c55bd97",
   "metadata": {},
   "outputs": [],
   "source": [
    "# we can normalise cpu speed and hot encode cpu copany info\n",
    "X_train['CpuSpeed'] = scaler.fit_transform(X_train[['CpuSpeed']])\n",
    "X_test['CpuSpeed'] = scaler.transform(X_test[['CpuSpeed']])\n",
    "# to one hot encode there are two categories in CPU company\n",
    "cpu_ohencoded_train = pd.get_dummies(X_train['CpuCompany'])\n",
    "X_train = pd.concat([X_train, cpu_ohencoded_train], axis=1)\n",
    "X_train.drop('CpuCompany', axis=1, inplace=True)\n",
    "cpu_ohencoded_test = pd.get_dummies(X_test['CpuCompany'])\n",
    "X_test = pd.concat([X_test, cpu_ohencoded_test], axis=1)\n",
    "X_test.drop('CpuCompany', axis=1, inplace=True)\n"
   ]
  },
  {
   "cell_type": "markdown",
   "id": "758b7c92",
   "metadata": {},
   "source": [
    "Ram "
   ]
  },
  {
   "cell_type": "code",
   "execution_count": 16,
   "id": "6c32d1e7",
   "metadata": {},
   "outputs": [],
   "source": [
    "# For Ram we have to remove GB from the name and normalise it\n",
    "X_train['Ram'] = X_train['Ram'].astype(str).str.replace('GB', '').astype(int)\n",
    "X_test['Ram'] = X_test['Ram'].astype(str).str.replace('GB', '').astype(int)\n",
    "X_train['Ram'] = scaler.fit_transform(X_train[['Ram']])\n",
    "X_test['Ram'] = scaler.transform(X_test[['Ram']])"
   ]
  },
  {
   "cell_type": "markdown",
   "id": "a77f9bfe",
   "metadata": {},
   "source": [
    "Memory "
   ]
  },
  {
   "cell_type": "code",
   "execution_count": 17,
   "id": "da8877f4",
   "metadata": {},
   "outputs": [],
   "source": [
    "# it has 33 diff categories and the sizes are in TB and GB these have to be al reduced to GB\n",
    "def get_StorageSize(memory):\n",
    "    parts = memory.split('+')\n",
    "    total_storage = 0\n",
    "    for part in parts:\n",
    "        part = part.strip()\n",
    "        size_part = ''.join(filter(str.isdigit, part.split()[0]))\n",
    "        unit = part.split()[-1] \n",
    "        size = float(size_part)\n",
    "        if 'TB' in unit:\n",
    "            size *= 1024\n",
    "        total_storage += size\n",
    "    return total_storage\n",
    "def get_StorageType(memory):\n",
    "    types = []\n",
    "    parts = memory.split('+')\n",
    "    for part in parts:\n",
    "        types.append(part.strip().split()[-1])\n",
    "    return '+'.join(sorted(set(types))) \n",
    "\n",
    "X_train['Storage_inGB'] = X_train['Memory'].apply(get_StorageSize)\n",
    "X_train['StorageType'] = X_train['Memory'].apply(get_StorageType)\n",
    "X_train = X_train.drop(columns=['Memory'])\n",
    "X_test['Storage_inGB'] = X_test['Memory'].apply(get_StorageSize)\n",
    "X_test['StorageType'] = X_test['Memory'].apply(get_StorageType)\n",
    "X_test = X_test.drop(columns=['Memory'])"
   ]
  },
  {
   "cell_type": "code",
   "execution_count": 18,
   "id": "6c9d3b95",
   "metadata": {},
   "outputs": [
    {
     "data": {
      "image/png": "[encoded data removed]",
      "text/plain": [
       "<Figure size 600x400 with 1 Axes>"
      ]
     },
     "metadata": {},
     "output_type": "display_data"
    }
   ],
   "source": [
    "# after segregating the Storage analyse the company categorical column\n",
    "storage_counts = X_train['StorageType'].value_counts().reset_index()\n",
    "storage_counts.columns = ['StorageType', 'Count']\n",
    "plt.figure(figsize=(6, 4))\n",
    "sns.barplot(x='StorageType', y='Count', data=storage_counts)\n",
    "plt.title('Storage Counts')\n",
    "plt.xlabel('Storage')\n",
    "plt.ylabel('Counts')\n",
    "plt.show()"
   ]
  },
  {
   "cell_type": "code",
   "execution_count": 19,
   "id": "9878d364",
   "metadata": {},
   "outputs": [],
   "source": [
    "# normalize Total storage and hot encode storage type\n",
    "X_train['Storage_inGB'] = scaler.fit_transform(X_train[['Storage_inGB']])\n",
    "X_test['Storage_inGB'] = scaler.transform(X_test[['Storage_inGB']])\n",
    "\n",
    "\n",
    "storage_encoded_train = pd.get_dummies(X_train['StorageType'])\n",
    "X_train = pd.concat([X_train, storage_encoded_train], axis=1)\n",
    "X_train.drop('StorageType', axis=1, inplace=True)\n",
    "storage_encoded_test = pd.get_dummies(X_test['StorageType'])\n",
    "X_test = pd.concat([X_test, storage_encoded_test], axis=1)\n",
    "X_test.drop('StorageType', axis=1, inplace=True)"
   ]
  },
  {
   "cell_type": "markdown",
   "id": "e04a189d",
   "metadata": {},
   "source": [
    "GPU "
   ]
  },
  {
   "cell_type": "code",
   "execution_count": 20,
   "id": "1b5248fe",
   "metadata": {},
   "outputs": [],
   "source": [
    "def get_RareLabels(df, column, threshold=0.05):\n",
    "    counts = df[column].value_counts(normalize=True)\n",
    "    rare_labels = counts[counts < threshold].index\n",
    "    df[column] = df[column].apply(lambda x: 'Miscellaneous' if x in rare_labels else x)\n",
    "    return df\n",
    "threshold = 0.05\n",
    "X_train = get_RareLabels(X_train.copy(), 'Gpu', threshold)\n",
    "X_test = get_RareLabels(X_test.copy(), 'Gpu', threshold)"
   ]
  },
  {
   "cell_type": "code",
   "execution_count": 21,
   "id": "614567a1",
   "metadata": {},
   "outputs": [],
   "source": [
    "# after rare coding on hot encode them \n",
    "gpu_encoded_train = pd.get_dummies(X_train['Gpu'])\n",
    "X_train = pd.concat([X_train, gpu_encoded_train], axis=1)\n",
    "X_train.drop('Gpu', axis=1, inplace=True)\n",
    "gpu_encoded_test = pd.get_dummies(X_test['Gpu'])\n",
    "X_test = pd.concat([X_test, gpu_encoded_test], axis=1)\n",
    "X_test.drop('Gpu', axis=1, inplace=True)\n"
   ]
  },
  {
   "cell_type": "markdown",
   "id": "5b04cd8f",
   "metadata": {},
   "source": [
    "OpSys "
   ]
  },
  {
   "cell_type": "code",
   "execution_count": 22,
   "id": "3d76d6b6",
   "metadata": {},
   "outputs": [
    {
     "data": {
      "image/png": "[encoded data removed]",
      "text/plain": [
       "<Figure size 1000x400 with 1 Axes>"
      ]
     },
     "metadata": {},
     "output_type": "display_data"
    }
   ],
   "source": [
    "op_sys_counts = X_train['OpSys'].value_counts().reset_index()\n",
    "op_sys_counts.columns = ['OpSys', 'Count']\n",
    "plt.figure(figsize=(10, 4))\n",
    "sns.barplot(x='OpSys', y='Count', data=op_sys_counts)\n",
    "plt.title('Operating System Counts')\n",
    "plt.xlabel('Operating System')\n",
    "plt.ylabel('Counts')\n",
    "plt.show()"
   ]
  },
  {
   "cell_type": "code",
   "execution_count": 23,
   "id": "81fadfeb",
   "metadata": {},
   "outputs": [],
   "source": [
    "#one hot encode the operating systems\n",
    "opsys_encoded_train = pd.get_dummies(X_train['OpSys'])\n",
    "X_train = pd.concat([X_train, opsys_encoded_train], axis=1)\n",
    "X_train.drop('OpSys', axis=1, inplace=True)\n",
    "opsys_encoded_test = pd.get_dummies(X_test['OpSys'])\n",
    "X_test = pd.concat([X_test, opsys_encoded_test], axis=1)\n",
    "X_test.drop('OpSys', axis=1, inplace=True)"
   ]
  },
  {
   "cell_type": "markdown",
   "id": "39270bad",
   "metadata": {},
   "source": [
    "Weight "
   ]
  },
  {
   "cell_type": "code",
   "execution_count": 24,
   "id": "0fe093e7",
   "metadata": {},
   "outputs": [],
   "source": [
    "X_train['Weight'] = X_train['Weight'].astype(str).str.replace('kg', '').astype(float)\n",
    "X_test['Weight'] = X_test['Weight'].astype(str).str.replace('kg', '').astype(float)\n",
    "\n",
    "X_train['Weight'] = scaler.fit_transform(X_train[['Weight']])\n",
    "X_test['Weight'] = scaler.transform(X_test[['Weight']])"
   ]
  },
  {
   "cell_type": "markdown",
   "id": "f46c5a2d",
   "metadata": {},
   "source": [
    "#### Feature Dimenionality Adjustment"
   ]
  },
  {
   "cell_type": "code",
   "execution_count": 25,
   "id": "809ba96e",
   "metadata": {},
   "outputs": [],
   "source": [
    "# Match the columns between train and test data \n",
    "def delete_duplicates(df):\n",
    "    return df.loc[:, ~df.columns.duplicated()]\n",
    "\n",
    "missing_cols = set(X_train.columns) - set(X_test.columns)\n",
    "for col in missing_cols:\n",
    "    X_test[col] = 0\n",
    "extra_cols = set(X_test.columns) - set(X_train.columns)\n",
    "X_test = X_test.drop(columns=extra_cols)\n",
    "X_test = X_test[X_train.columns]\n",
    "X_train = X_train.sort_index(axis=1)\n",
    "X_test = X_test.sort_index(axis=1)\n",
    "X_train = delete_duplicates(X_train)\n",
    "X_test = delete_duplicates(X_test)"
   ]
  },
  {
   "cell_type": "code",
   "execution_count": 26,
   "id": "2b78625b",
   "metadata": {},
   "outputs": [
    {
     "name": "stdout",
     "output_type": "stream",
     "text": [
      "<class 'pandas.core.frame.DataFrame'>\n",
      "RangeIndex: 901 entries, 0 to 900\n",
      "Data columns (total 58 columns):\n",
      " #   Column                   Non-Null Count  Dtype  \n",
      "---  ------                   --------------  -----  \n",
      " 0   2 in 1 Convertible       901 non-null    uint8  \n",
      " 1   AMD                      901 non-null    uint8  \n",
      " 2   Acer                     901 non-null    uint8  \n",
      " 3   Android                  901 non-null    uint8  \n",
      " 4   Apple                    901 non-null    uint8  \n",
      " 5   Asus                     901 non-null    uint8  \n",
      " 6   Chrome OS                901 non-null    uint8  \n",
      " 7   Chuwi                    901 non-null    uint8  \n",
      " 8   CpuSpeed                 901 non-null    float64\n",
      " 9   Dell                     901 non-null    uint8  \n",
      " 10  Fujitsu                  901 non-null    uint8  \n",
      " 11  Gaming                   901 non-null    uint8  \n",
      " 12  Google                   901 non-null    uint8  \n",
      " 13  HDD                      901 non-null    uint8  \n",
      " 14  HDD+SSD                  901 non-null    uint8  \n",
      " 15  HDD+Storage              901 non-null    uint8  \n",
      " 16  HP                       901 non-null    uint8  \n",
      " 17  Huawei                   901 non-null    uint8  \n",
      " 18  Hybrid                   901 non-null    uint8  \n",
      " 19  Inches                   901 non-null    float64\n",
      " 20  Intel                    901 non-null    uint8  \n",
      " 21  Intel HD Graphics 520    901 non-null    uint8  \n",
      " 22  Intel HD Graphics 620    901 non-null    uint8  \n",
      " 23  Intel UHD Graphics 620   901 non-null    uint8  \n",
      " 24  LG                       901 non-null    uint8  \n",
      " 25  Lenovo                   901 non-null    uint8  \n",
      " 26  Linux                    901 non-null    uint8  \n",
      " 27  MSI                      901 non-null    uint8  \n",
      " 28  Mac OS X                 901 non-null    uint8  \n",
      " 29  Mediacom                 901 non-null    uint8  \n",
      " 30  Microsoft                901 non-null    uint8  \n",
      " 31  Miscellaneous            901 non-null    uint8  \n",
      " 32  Netbook                  901 non-null    uint8  \n",
      " 33  No OS                    901 non-null    uint8  \n",
      " 34  Notebook                 901 non-null    uint8  \n",
      " 35  Nvidia GeForce GTX 1050  901 non-null    uint8  \n",
      " 36  Ram                      901 non-null    float64\n",
      " 37  Razer                    901 non-null    uint8  \n",
      " 38  ResolutionFullHD         901 non-null    int32  \n",
      " 39  ResolutionIPS            901 non-null    int32  \n",
      " 40  ResolutionRetina         901 non-null    int32  \n",
      " 41  ResolutionTouchscreen    901 non-null    int32  \n",
      " 42  SSD                      901 non-null    uint8  \n",
      " 43  Samsung                  901 non-null    uint8  \n",
      " 44  ScreenHeight             901 non-null    float64\n",
      " 45  ScreenWidth              901 non-null    float64\n",
      " 46  Storage                  901 non-null    uint8  \n",
      " 47  Storage_inGB             901 non-null    float64\n",
      " 48  Toshiba                  901 non-null    uint8  \n",
      " 49  Ultrabook                901 non-null    uint8  \n",
      " 50  Vero                     901 non-null    uint8  \n",
      " 51  Weight                   901 non-null    float64\n",
      " 52  Windows 10               901 non-null    uint8  \n",
      " 53  Windows 10 S             901 non-null    uint8  \n",
      " 54  Windows 7                901 non-null    uint8  \n",
      " 55  Workstation              901 non-null    uint8  \n",
      " 56  Xiaomi                   901 non-null    uint8  \n",
      " 57  macOS                    901 non-null    uint8  \n",
      "dtypes: float64(7), int32(4), uint8(47)\n",
      "memory usage: 104.8 KB\n"
     ]
    }
   ],
   "source": [
    "X_train.info()"
   ]
  },
  {
   "cell_type": "code",
   "execution_count": 27,
   "id": "0e446764",
   "metadata": {},
   "outputs": [
    {
     "name": "stdout",
     "output_type": "stream",
     "text": [
      "<class 'pandas.core.frame.DataFrame'>\n",
      "RangeIndex: 402 entries, 0 to 401\n",
      "Data columns (total 58 columns):\n",
      " #   Column                   Non-Null Count  Dtype  \n",
      "---  ------                   --------------  -----  \n",
      " 0   2 in 1 Convertible       402 non-null    uint8  \n",
      " 1   AMD                      402 non-null    uint8  \n",
      " 2   Acer                     402 non-null    uint8  \n",
      " 3   Android                  402 non-null    uint8  \n",
      " 4   Apple                    402 non-null    uint8  \n",
      " 5   Asus                     402 non-null    uint8  \n",
      " 6   Chrome OS                402 non-null    uint8  \n",
      " 7   Chuwi                    402 non-null    int64  \n",
      " 8   CpuSpeed                 402 non-null    float64\n",
      " 9   Dell                     402 non-null    uint8  \n",
      " 10  Fujitsu                  402 non-null    uint8  \n",
      " 11  Gaming                   402 non-null    uint8  \n",
      " 12  Google                   402 non-null    int64  \n",
      " 13  HDD                      402 non-null    uint8  \n",
      " 14  HDD+SSD                  402 non-null    uint8  \n",
      " 15  HDD+Storage              402 non-null    int64  \n",
      " 16  HP                       402 non-null    uint8  \n",
      " 17  Huawei                   402 non-null    int64  \n",
      " 18  Hybrid                   402 non-null    uint8  \n",
      " 19  Inches                   402 non-null    float64\n",
      " 20  Intel                    402 non-null    uint8  \n",
      " 21  Intel HD Graphics 520    402 non-null    uint8  \n",
      " 22  Intel HD Graphics 620    402 non-null    uint8  \n",
      " 23  Intel UHD Graphics 620   402 non-null    int64  \n",
      " 24  LG                       402 non-null    uint8  \n",
      " 25  Lenovo                   402 non-null    uint8  \n",
      " 26  Linux                    402 non-null    uint8  \n",
      " 27  MSI                      402 non-null    uint8  \n",
      " 28  Mac OS X                 402 non-null    uint8  \n",
      " 29  Mediacom                 402 non-null    int64  \n",
      " 30  Microsoft                402 non-null    int64  \n",
      " 31  Miscellaneous            402 non-null    uint8  \n",
      " 32  Netbook                  402 non-null    uint8  \n",
      " 33  No OS                    402 non-null    uint8  \n",
      " 34  Notebook                 402 non-null    uint8  \n",
      " 35  Nvidia GeForce GTX 1050  402 non-null    int64  \n",
      " 36  Ram                      402 non-null    float64\n",
      " 37  Razer                    402 non-null    uint8  \n",
      " 38  ResolutionFullHD         402 non-null    int32  \n",
      " 39  ResolutionIPS            402 non-null    int32  \n",
      " 40  ResolutionRetina         402 non-null    int32  \n",
      " 41  ResolutionTouchscreen    402 non-null    int32  \n",
      " 42  SSD                      402 non-null    uint8  \n",
      " 43  Samsung                  402 non-null    uint8  \n",
      " 44  ScreenHeight             402 non-null    float64\n",
      " 45  ScreenWidth              402 non-null    float64\n",
      " 46  Storage                  402 non-null    uint8  \n",
      " 47  Storage_inGB             402 non-null    float64\n",
      " 48  Toshiba                  402 non-null    uint8  \n",
      " 49  Ultrabook                402 non-null    uint8  \n",
      " 50  Vero                     402 non-null    uint8  \n",
      " 51  Weight                   402 non-null    float64\n",
      " 52  Windows 10               402 non-null    uint8  \n",
      " 53  Windows 10 S             402 non-null    int64  \n",
      " 54  Windows 7                402 non-null    uint8  \n",
      " 55  Workstation              402 non-null    uint8  \n",
      " 56  Xiaomi                   402 non-null    int64  \n",
      " 57  macOS                    402 non-null    int64  \n",
      "dtypes: float64(7), int32(4), int64(11), uint8(36)\n",
      "memory usage: 77.1 KB\n"
     ]
    }
   ],
   "source": [
    "X_test.info()"
   ]
  },
  {
   "cell_type": "markdown",
   "id": "4519e4ee",
   "metadata": {},
   "source": [
    "#### Feature Dimensionality Reduction "
   ]
  },
  {
   "cell_type": "code",
   "execution_count": 28,
   "id": "a03728b3",
   "metadata": {},
   "outputs": [
    {
     "data": {
      "image/png": "[encoded data removed]",
      "text/plain": [
       "<Figure size 1000x600 with 1 Axes>"
      ]
     },
     "metadata": {},
     "output_type": "display_data"
    }
   ],
   "source": [
    "pca = PCA()\n",
    "pca.fit(X_train)\n",
    "explained_variance = pca.explained_variance_ratio_\n",
    "cumulative_explained_variance = np.cumsum(explained_variance)\n",
    "plt.figure(figsize=(10, 6))\n",
    "plt.plot(cumulative_explained_variance,color='purple', marker='*')\n",
    "plt.xlabel('No.of Features')\n",
    "plt.ylabel('Cumulative Explained Variance')\n",
    "plt.title('Cumulative Explained Variance by PCA Components')\n",
    "plt.grid(True)\n",
    "plt.show()"
   ]
  },
  {
   "cell_type": "code",
   "execution_count": 29,
   "id": "3a26d9fc",
   "metadata": {},
   "outputs": [
    {
     "data": {
      "text/plain": [
       "23"
      ]
     },
     "execution_count": 29,
     "metadata": {},
     "output_type": "execute_result"
    }
   ],
   "source": [
    "np.where(cumulative_explained_variance >= 0.95)[0][0]"
   ]
  },
  {
   "cell_type": "code",
   "execution_count": 30,
   "id": "0c30a47a",
   "metadata": {},
   "outputs": [
    {
     "data": {
      "text/plain": [
       "((901, 37), (402, 37))"
      ]
     },
     "execution_count": 30,
     "metadata": {},
     "output_type": "execute_result"
    }
   ],
   "source": [
    "pca_37 = PCA(n_components= 37)\n",
    "X_train_pca = pca_37.fit_transform(X_train)\n",
    "X_test_pca = pca_37.transform(X_test)\n",
    "X_train_pca.shape, X_test_pca.shape"
   ]
  },
  {
   "cell_type": "markdown",
   "id": "45d38046",
   "metadata": {},
   "source": [
    "### Training  "
   ]
  },
  {
   "cell_type": "markdown",
   "id": "50793901",
   "metadata": {},
   "source": [
    "##### Trivial System"
   ]
  },
  {
   "cell_type": "code",
   "execution_count": 31,
   "id": "c85a2bba",
   "metadata": {},
   "outputs": [
    {
     "name": "stdout",
     "output_type": "stream",
     "text": [
      "Root Mean Squared Error for Trivial System: 0.63\n",
      "Mean Absolute Error for Trivial System: 0.52\n",
      "R² Score for Trivial System: -0.01\n"
     ]
    }
   ],
   "source": [
    "mean_price = np.mean(y_train)\n",
    "y_pred_trivial = np.full(shape=y_test.shape, fill_value=mean_price)\n",
    "\n",
    "rmse_trivial = np.sqrt(mean_squared_error(y_test, y_pred_trivial))\n",
    "mae_trivial = mean_absolute_error(y_test, y_pred_trivial)\n",
    "r2_trivial = r2_score(y_test, y_pred_trivial)\n",
    "\n",
    "print(f'Root Mean Squared Error for Trivial System: {rmse_trivial:.2f}')\n",
    "print(f'Mean Absolute Error for Trivial System: {mae_trivial:.2f}')\n",
    "print(f'R² Score for Trivial System: {r2_trivial:.2f}')"
   ]
  },
  {
   "cell_type": "markdown",
   "id": "4f1d24dc",
   "metadata": {},
   "source": [
    "##### Baseline"
   ]
  },
  {
   "cell_type": "code",
   "execution_count": 37,
   "id": "6bc1ec10",
   "metadata": {},
   "outputs": [
    {
     "name": "stdout",
     "output_type": "stream",
     "text": [
      "RMSE: 0.2997051178649677\n",
      "MAE: 0.2306426811078932\n",
      "R2 Score: 0.7720855380001098\n"
     ]
    }
   ],
   "source": [
    "#Linear Regression\n",
    "model = LinearRegression()\n",
    "model.fit(X_train_pca, y_train)\n",
    "y_pred = model.predict(X_test_pca)\n",
    "\n",
    "rmse_baseline_lr = mean_squared_error(y_test, y_pred, squared=False)\n",
    "mae_baseline_lr = mean_absolute_error(y_test, y_pred)\n",
    "r2_baseline_lr = r2_score(y_test, y_pred)\n",
    "\n",
    "print(\"RMSE:\", rmse_baseline_lr)\n",
    "print(\"MAE:\",mae_baseline_lr)\n",
    "print(\"R2 Score:\", r2_baseline_lr)\n"
   ]
  },
  {
   "cell_type": "code",
   "execution_count": 38,
   "id": "f5a55492",
   "metadata": {},
   "outputs": [
    {
     "name": "stdout",
     "output_type": "stream",
     "text": [
      "RMSE: 0.391580166410931\n",
      "MAE: 0.3024634412621241\n",
      "R2 Score: 0.610932514210329\n"
     ]
    },
    {
     "name": "stderr",
     "output_type": "stream",
     "text": [
      "C:\\Users\\india\\anaconda3\\Lib\\site-packages\\sklearn\\neural_network\\_multilayer_perceptron.py:691: ConvergenceWarning: Stochastic Optimizer: Maximum iterations (200) reached and the optimization hasn't converged yet.\n",
      "  warnings.warn(\n"
     ]
    }
   ],
   "source": [
    "#1NN\n",
    "model=MLPRegressor()\n",
    "model.fit(X_train_pca, y_train)\n",
    "y_pred = model.predict(X_test_pca)\n",
    "\n",
    "rmse_baseline_nn = mean_squared_error(y_test, y_pred, squared=False)\n",
    "mae_baseline_nn = mean_absolute_error(y_test, y_pred)\n",
    "r2_baseline_nn = r2_score(y_test, y_pred)\n",
    "\n",
    "print(\"RMSE:\", rmse_baseline_nn)\n",
    "print(\"MAE:\",mae_baseline_nn)\n",
    "print(\"R2 Score:\", r2_baseline_nn)"
   ]
  },
  {
   "cell_type": "markdown",
   "id": "570bcb2a",
   "metadata": {},
   "source": [
    "### Linear Regression"
   ]
  },
  {
   "cell_type": "markdown",
   "id": "d8da406f",
   "metadata": {},
   "source": [
    "Linear Regression with Pseudoinverse Solution"
   ]
  },
  {
   "cell_type": "code",
   "execution_count": 34,
   "id": "4736e0a6",
   "metadata": {
    "scrolled": false
   },
   "outputs": [
    {
     "name": "stdout",
     "output_type": "stream",
     "text": [
      "Mean RMSE for linear regression Validation set : 0.26 ± 0.02\n",
      "Mean MAE for linear regression Validation set: 0.21\n",
      "Mean R² Score for linear regression Validation set: 0.81\n"
     ]
    }
   ],
   "source": [
    "def get_weight(X, y):\n",
    "    X_with_intercept = np.c_[np.ones(X.shape[0]), X]\n",
    "    weight = np.linalg.inv(X_with_intercept.T.dot(X_with_intercept)).dot(X_with_intercept.T).dot(y)\n",
    "    return weight\n",
    "\n",
    "def predict(X, w):\n",
    "    X_aug = np.c_[np.ones(X.shape[0]), X]\n",
    "    y_pred = X_aug.dot(w) \n",
    "    return y_pred\n",
    "\n",
    "def get_mse(y_true, y_pred):\n",
    "    squared_errors = (y_true - y_pred) ** 2\n",
    "    mse = np.mean(squared_errors)    \n",
    "    return mse\n",
    "\n",
    "\n",
    "num_folds = 5\n",
    "kf = KFold(n_splits=num_folds)\n",
    "rmse_scores = []\n",
    "mae_scores = []\n",
    "r2_scores = []\n",
    "\n",
    "for train_index, test_index in kf.split(X_train_pca):\n",
    "    X_train_fold, X_val_fold = X_train_pca[train_index], X_train_pca[test_index]\n",
    "    y_train_fold, y_val_fold = y_train[train_index], y_train[test_index]    \n",
    "    weights = get_weight(X_train_fold, y_train_fold)\n",
    "    y_pred_fold = predict(X_val_fold, weights)\n",
    "    rmse_fold = np.sqrt(get_mse(y_val_fold, y_pred_fold))\n",
    "    mae_fold = np.mean(np.abs(y_val_fold - y_pred_fold))\n",
    "    y_mean_fold = np.mean(y_val_fold)\n",
    "    ss_total_fold = np.sum((y_val_fold - y_mean_fold) ** 2)\n",
    "    ss_residual_fold = np.sum((y_val_fold - y_pred_fold) ** 2)\n",
    "    r2_fold = 1 - (ss_residual_fold / ss_total_fold)\n",
    "    rmse_scores.append(rmse_fold)\n",
    "    mae_scores.append(mae_fold)\n",
    "    r2_scores.append(r2_fold)\n",
    "\n",
    "\n",
    "mean_rmse = np.mean(rmse_scores)\n",
    "std_rmse = np.std(rmse_scores)\n",
    "mean_mae = np.mean(mae_scores)\n",
    "mean_r2 = np.mean(r2_scores)\n",
    "\n",
    "print(f'Mean RMSE for linear regression Validation set : {mean_rmse:.2f} ± {std_rmse:.2f}')\n",
    "print(f'Mean MAE for linear regression Validation set: {mean_mae:.2f}')\n",
    "print(f'Mean R² Score for linear regression Validation set: {mean_r2:.2f}')\n",
    "\n"
   ]
  },
  {
   "cell_type": "code",
   "execution_count": 35,
   "id": "a275d102",
   "metadata": {},
   "outputs": [
    {
     "name": "stdout",
     "output_type": "stream",
     "text": [
      "RMSE for linear regression Test set: 0.30\n",
      "MAE for linear regression Test set: 0.23\n",
      "R² Score for linear regression Test set: 0.77\n"
     ]
    }
   ],
   "source": [
    "y_pred_linear = predict(X_test_pca, get_weight(X_train_pca, y_train))\n",
    "rmse_linear = np.sqrt(get_mse(y_test, y_pred_linear))\n",
    "mae_linear = np.mean(np.abs(y_test - y_pred_linear))\n",
    "r2_linear = r2_score(y_test, y_pred_linear)\n",
    "\n",
    "print(f'RMSE for linear regression Test set: {rmse_linear:.2f}')\n",
    "print(f'MAE for linear regression Test set: {mae_linear:.2f}')\n",
    "print(f'R² Score for linear regression Test set: {r2_linear:.2f}')"
   ]
  },
  {
   "cell_type": "markdown",
   "id": "0b3fb7c0",
   "metadata": {},
   "source": [
    "Linear Regression with Grediant Descent MSE Algorithm"
   ]
  },
  {
   "cell_type": "code",
   "execution_count": null,
   "id": "623f779b",
   "metadata": {},
   "outputs": [],
   "source": [
    "lr = 0.01\n",
    "epochs = 1000\n",
    "n = float(len(X_train_pca))\n",
    "\n",
    "w = np.zeros(X_train_pca.shape[1])\n",
    "b = 0\n",
    "for i in range(epochs):\n",
    "    y_pred = np.dot(X_train_pca, w) + b\n",
    "    error = y_train - y_pred\n",
    "    dw = (-2/n) * np.dot(X_train_pca.T, error)\n",
    "    db = (-2/n) * np.sum(error)\n",
    "    w = w - lr * dw\n",
    "    b = b - lr * db\n",
    "\n",
    "    if i % 100 == 0:\n",
    "        cost = (1/n) * np.sum(error**2)\n",
    "\n",
    "\n",
    "def predict(X):\n",
    "    return np.dot(X, w) + b\n",
    "\n",
    "y_test_pred = predict(X_test_pca)\n",
    "test_cost = (1/len(X_test_pca)) * np.sum((y_test - y_test_pred)**2)\n",
    "\n",
    "rmse_linear_gd = np.sqrt(mean_squared_error(y_test, y_test_pred))\n",
    "mae_linear_gd = mean_absolute_error(y_test, y_test_pred)\n",
    "r2_linear_gd = r2_score(y_test, y_test_pred)\n",
    "\n",
    "print(f'RMSE for GD linear regression Test set: {rmse_linear_gd:.2f}')\n",
    "print(f'MAE for GD linear regression Test set: {mae_linear_gd:.2f}')\n",
    "print(f'R² Score for GD linear regression Test set: {r2_linear_gd:.2f}')\n"
   ]
  },
  {
   "cell_type": "markdown",
   "id": "29a96394",
   "metadata": {},
   "source": [
    "### Support Vector Regressor"
   ]
  },
  {
   "cell_type": "code",
   "execution_count": null,
   "id": "24bf1f88",
   "metadata": {},
   "outputs": [],
   "source": [
    "num_folds = 5\n",
    "kf = KFold(n_splits=num_folds)\n",
    "\n",
    "rmse_scores = []\n",
    "mae_scores = []\n",
    "r2_scores = []\n",
    "\n",
    "for train_idx, test_idx in kf.split(X_train_pca):\n",
    "    X_train_fold, X_val_fold = X_train_pca[train_idx], X_train_pca[test_idx]\n",
    "    y_train_fold, y_val_fold = y_train[train_idx], y_train[test_idx]  \n",
    "    model_svr = SVR(kernel ='rbf',C = 10 ,gamma = 0.1)\n",
    "    model_svr.fit(X_train_fold, y_train_fold)\n",
    "    y_pred_fold = model_svr.predict(X_val_fold)  \n",
    "    rmse_fold = np.sqrt(mean_squared_error(y_val_fold, y_pred_fold))\n",
    "    mae_fold = mean_absolute_error(y_val_fold, y_pred_fold)\n",
    "    r2_fold = r2_score(y_val_fold, y_pred_fold)  \n",
    "    rmse_scores.append(rmse_fold)\n",
    "    mae_scores.append(mae_fold)\n",
    "    r2_scores.append(r2_fold)\n",
    "\n",
    "mean_rmse = np.mean(rmse_scores)\n",
    "std_rmse = np.std(rmse_scores)\n",
    "mean_mae = np.mean(mae_scores)\n",
    "mean_r2 = np.mean(r2_scores)\n",
    "\n",
    "print(f'Mean RMSE for SVR: {mean_rmse:.2f} ± {std_rmse:.2f}')\n",
    "print(f'Mean MAE for SVR: {mean_mae:.2f}')\n",
    "print(f'Mean R² Score for SVR: {mean_r2:.2f}')"
   ]
  },
  {
   "cell_type": "code",
   "execution_count": null,
   "id": "51ab765f",
   "metadata": {},
   "outputs": [],
   "source": [
    "model_svr.fit(X_train_pca, y_train)\n",
    "\n",
    "y_pred_svr = model_svr.predict(X_test_pca)\n",
    "rmse_svr = np.sqrt(mean_squared_error(y_test, y_pred_svr))\n",
    "mae_svr = mean_absolute_error(y_test, y_pred_svr)\n",
    "r2_svr = r2_score(y_test, y_pred_svr)\n",
    "\n",
    "print(f'RMSE for SVR: {rmse_svr:.2f}')\n",
    "print(f'MAE for SVR: {mae_svr:.2f}')\n",
    "print(f'R-squared for SVR: {r2_svr:.2f}')"
   ]
  },
  {
   "cell_type": "markdown",
   "id": "684c8ea1",
   "metadata": {},
   "source": [
    "### 1 Neaural Network"
   ]
  },
  {
   "cell_type": "code",
   "execution_count": null,
   "id": "585dadcb",
   "metadata": {},
   "outputs": [],
   "source": [
    "num_folds_nn = 5\n",
    "kf_nn = KFold(n_splits=num_folds_nn)\n",
    "rmse_scores_nn = []\n",
    "mae_scores_nn = []\n",
    "r2_scores_nn = []\n",
    "\n",
    "for train_index_nn, test_index_nn in kf_nn.split(X_train_pca):\n",
    "    X_train_fold_nn, X_val_fold_nn = X_train_pca[train_index_nn], X_train_pca[test_index_nn]\n",
    "    y_train_fold_nn, y_val_fold_nn = y_train[train_index_nn], y_train[test_index_nn]\n",
    "\n",
    "    model_nn = MLPRegressor(\n",
    "        hidden_layer_sizes=(1000,),\n",
    "        activation='relu',\n",
    "        solver='adam',\n",
    "        alpha=0.0001,\n",
    "        batch_size='auto',\n",
    "        learning_rate='constant',\n",
    "        learning_rate_init=0.01,\n",
    "        power_t=0.5,\n",
    "        max_iter=1000,\n",
    "        shuffle=True,\n",
    "        random_state=1,\n",
    "        tol=1e-4,\n",
    "        verbose=False,\n",
    "        warm_start=False,\n",
    "        momentum=0.9,\n",
    "        nesterovs_momentum=True,\n",
    "        early_stopping=False,\n",
    "        validation_fraction=0.1,\n",
    "        beta_1=0.9,\n",
    "        beta_2=0.999,\n",
    "        epsilon=1e-8\n",
    "    )\n",
    "\n",
    "    model_nn.fit(X_train_fold_nn, y_train_fold_nn)\n",
    "    y_pred_fold_nn = model_nn.predict(X_val_fold_nn)\n",
    "    rmse_fold_nn = np.sqrt(mean_squared_error(y_val_fold_nn, y_pred_fold_nn))\n",
    "    mae_fold_nn = mean_absolute_error(y_val_fold_nn, y_pred_fold_nn)\n",
    "    r2_fold_nn = r2_score(y_val_fold_nn, y_pred_fold_nn)\n",
    "    rmse_scores_nn.append(rmse_fold_nn)\n",
    "    mae_scores_nn.append(mae_fold_nn)\n",
    "    r2_scores_nn.append(r2_fold_nn)\n",
    "mean_rmse_nn = np.mean(rmse_scores_nn)\n",
    "std_rmse_nn = np.std(rmse_scores_nn)\n",
    "mean_mae_nn = np.mean(mae_scores_nn)\n",
    "mean_r2_nn = np.mean(r2_scores_nn)\n",
    "\n",
    "print(f'Mean RMSE for Neural Network for Validation Set: {mean_rmse_nn:.2f} ± {std_rmse_nn:.2f}')\n",
    "print(f'Mean MAE for Neural Network for Validation Set: {mean_mae_nn:.2f}')\n",
    "print(f'Mean R² Score for Neural Network for Validation Set: {mean_r2_nn:.2f}')"
   ]
  },
  {
   "cell_type": "code",
   "execution_count": null,
   "id": "9c360a00",
   "metadata": {},
   "outputs": [],
   "source": [
    "model_nn.fit(X_train_pca, y_train)\n",
    "\n",
    "y_pred_nn = model_nn.predict(X_test_pca)\n",
    "rmse_nn = np.sqrt(mean_squared_error(y_test, y_pred_nn))\n",
    "mae_nn = mean_absolute_error(y_test, y_pred_nn)\n",
    "r2_nn = r2_score(y_test, y_pred_nn)\n",
    "\n",
    "print(f'RMSE for Neural Network Test Set: {rmse_nn:.2f}')\n",
    "print(f'MAE for Neural Network Test Set: {mae_nn:.2f}')\n",
    "print(f'R-squared for Neural Network Test Set: {r2_nn:.2f}')"
   ]
  },
  {
   "cell_type": "code",
   "execution_count": null,
   "id": "4b7f02fb",
   "metadata": {},
   "outputs": [],
   "source": [
    "models = ['Linear Regression', 'SVR', 'Neural Network']\n",
    "\n",
    "rmse_values = [rmse_linear, rmse_svr, rmse_nn]\n",
    "mae_values = [mae_linear, mae_svr, mae_nn]\n",
    "r2_values = [r2_linear, r2_svr, r2_nn]\n",
    "\n",
    "plt.figure(figsize=(10, 5))\n",
    "plt.subplot(1, 3, 1)\n",
    "plt.bar(models, rmse_values, color=['red', 'purple', 'blue'])\n",
    "plt.title('RMSE Comparison')\n",
    "plt.xlabel('Models')\n",
    "plt.ylabel('RMSE')\n",
    "\n",
    "\n",
    "plt.subplot(1, 3, 2)\n",
    "plt.bar(models, mae_values, color=['red', 'purple', 'blue'])\n",
    "plt.title('MAE Comparison')\n",
    "plt.xlabel('Models')\n",
    "plt.ylabel('MAE')\n",
    "\n",
    "plt.subplot(1, 3, 3)\n",
    "plt.bar(models, r2_values, color=['red', 'purple', 'blue'])\n",
    "plt.title('R-squared Comparison')\n",
    "plt.xlabel('Models')\n",
    "plt.ylabel('R-squared')\n",
    "\n",
    "plt.tight_layout()\n",
    "plt.show()\n"
   ]
  },
  {
   "cell_type": "code",
   "execution_count": null,
   "id": "8ba8a41b",
   "metadata": {},
   "outputs": [],
   "source": []
  }
 ],
 "metadata": {
  "kernelspec": {
   "display_name": "Python 3 (ipykernel)",
   "language": "python",
   "name": "python3"
  },
  "language_info": {
   "codemirror_mode": {
    "name": "ipython",
    "version": 3
   },
   "file_extension": ".py",
   "mimetype": "text/x-python",
   "name": "python",
   "nbconvert_exporter": "python",
   "pygments_lexer": "ipython3",
   "version": "3.11.4"
  }
 },
 "nbformat": 4,
 "nbformat_minor": 5
}
